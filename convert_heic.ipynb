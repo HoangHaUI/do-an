{
 "cells": [
  {
   "cell_type": "code",
   "execution_count": 1,
   "metadata": {},
   "outputs": [
    {
     "name": "stdout",
     "output_type": "stream",
     "text": [
      "Looking in indexes: https://pypi.org/simple, https://pypi.ngc.nvidia.com\n",
      "Collecting pillow_heif\n",
      "  Downloading pillow_heif-0.10.1-cp39-cp39-win_amd64.whl (7.9 MB)\n",
      "     ---------------------------------------- 7.9/7.9 MB 557.7 kB/s eta 0:00:00\n",
      "Requirement already satisfied: pillow>=8.4.0 in c:\\users\\acer\\anaconda3\\envs\\tf\\lib\\site-packages (from pillow_heif) (9.4.0)\n",
      "Installing collected packages: pillow_heif\n",
      "Successfully installed pillow_heif-0.10.1\n"
     ]
    }
   ],
   "source": [
    "!pip install pillow_heif"
   ]
  },
  {
   "cell_type": "code",
   "execution_count": 3,
   "metadata": {},
   "outputs": [
    {
     "ename": "TypeError",
     "evalue": "argument 1 must be read-only bytes-like object, not memoryview",
     "output_type": "error",
     "traceback": [
      "\u001b[1;31m---------------------------------------------------------------------------\u001b[0m",
      "\u001b[1;31mTypeError\u001b[0m                                 Traceback (most recent call last)",
      "Cell \u001b[1;32mIn[3], line 10\u001b[0m\n\u001b[0;32m      8\u001b[0m heif_file \u001b[39m=\u001b[39m pillow_heif\u001b[39m.\u001b[39mread_heif(path)\n\u001b[0;32m      9\u001b[0m base_name \u001b[39m=\u001b[39m os\u001b[39m.\u001b[39mpath\u001b[39m.\u001b[39msplitext(os\u001b[39m.\u001b[39mpath\u001b[39m.\u001b[39mbasename(path))[\u001b[39m-\u001b[39m\u001b[39m1\u001b[39m]\n\u001b[1;32m---> 10\u001b[0m image \u001b[39m=\u001b[39m Image\u001b[39m.\u001b[39;49mfrombytes(\n\u001b[0;32m     11\u001b[0m     heif_file\u001b[39m.\u001b[39;49mmode,\n\u001b[0;32m     12\u001b[0m     heif_file\u001b[39m.\u001b[39;49msize,\n\u001b[0;32m     13\u001b[0m     heif_file\u001b[39m.\u001b[39;49mdata,\n\u001b[0;32m     14\u001b[0m     \u001b[39m\"\u001b[39;49m\u001b[39mraw\u001b[39;49m\u001b[39m\"\u001b[39;49m,\n\u001b[0;32m     15\u001b[0m \n\u001b[0;32m     16\u001b[0m )\n\u001b[0;32m     18\u001b[0m image\u001b[39m.\u001b[39msave(\u001b[39m\"\u001b[39m\u001b[39m./images/converted_image/\u001b[39m\u001b[39m\"\u001b[39m \u001b[39m+\u001b[39mbase_name\u001b[39m+\u001b[39m\u001b[39m\"\u001b[39m\u001b[39m.png\u001b[39m\u001b[39m\"\u001b[39m, \u001b[39mformat\u001b[39m(\u001b[39m\"\u001b[39m\u001b[39mpng\u001b[39m\u001b[39m\"\u001b[39m))\n",
      "File \u001b[1;32mc:\\Users\\ACER\\anaconda3\\envs\\tf\\lib\\site-packages\\PIL\\Image.py:2969\u001b[0m, in \u001b[0;36mfrombytes\u001b[1;34m(mode, size, data, decoder_name, *args)\u001b[0m\n\u001b[0;32m   2966\u001b[0m     args \u001b[39m=\u001b[39m mode\n\u001b[0;32m   2968\u001b[0m im \u001b[39m=\u001b[39m new(mode, size)\n\u001b[1;32m-> 2969\u001b[0m im\u001b[39m.\u001b[39;49mfrombytes(data, decoder_name, args)\n\u001b[0;32m   2970\u001b[0m \u001b[39mreturn\u001b[39;00m im\n",
      "File \u001b[1;32mc:\\Users\\ACER\\anaconda3\\envs\\tf\\lib\\site-packages\\PIL\\Image.py:826\u001b[0m, in \u001b[0;36mImage.frombytes\u001b[1;34m(self, data, decoder_name, *args)\u001b[0m\n\u001b[0;32m    824\u001b[0m d \u001b[39m=\u001b[39m _getdecoder(\u001b[39mself\u001b[39m\u001b[39m.\u001b[39mmode, decoder_name, args)\n\u001b[0;32m    825\u001b[0m d\u001b[39m.\u001b[39msetimage(\u001b[39mself\u001b[39m\u001b[39m.\u001b[39mim)\n\u001b[1;32m--> 826\u001b[0m s \u001b[39m=\u001b[39m d\u001b[39m.\u001b[39;49mdecode(data)\n\u001b[0;32m    828\u001b[0m \u001b[39mif\u001b[39;00m s[\u001b[39m0\u001b[39m] \u001b[39m>\u001b[39m\u001b[39m=\u001b[39m \u001b[39m0\u001b[39m:\n\u001b[0;32m    829\u001b[0m     msg \u001b[39m=\u001b[39m \u001b[39m\"\u001b[39m\u001b[39mnot enough image data\u001b[39m\u001b[39m\"\u001b[39m\n",
      "\u001b[1;31mTypeError\u001b[0m: argument 1 must be read-only bytes-like object, not memoryview"
     ]
    }
   ],
   "source": [
    "from PIL import Image\n",
    "import pillow_heif\n",
    "import os\n",
    "from glob import glob\n",
    "\n",
    "paths = glob(\"./images/drive-download-20230404T230650Z-001/**/*.HEIC\")\n",
    "for path in paths:\n",
    "    heif_file = pillow_heif.read_heif(path)\n",
    "    base_name = os.path.splitext(os.path.basename(path))[-1]\n",
    "    image = Image.frombytes(\n",
    "        heif_file.mode,\n",
    "        heif_file.size,\n",
    "        heif_file.data,\n",
    "        \"raw\",\n",
    "    \n",
    "    )\n",
    "\n",
    "    image.save(\"./images/converted_image/\" +base_name+\".png\", format(\"png\"))"
   ]
  },
  {
   "cell_type": "code",
   "execution_count": 4,
   "metadata": {},
   "outputs": [
    {
     "name": "stdout",
     "output_type": "stream",
     "text": [
      "Looking in indexes: https://pypi.org/simple, https://pypi.ngc.nvidia.com\n",
      "Collecting heic-to-jpg\n",
      "  Downloading heic_to_jpg-0.1.8-py2.py3-none-any.whl (3.9 kB)\n",
      "Collecting Click>=7.0\n",
      "  Downloading click-8.1.3-py3-none-any.whl (96 kB)\n",
      "     -------------------------------------- 96.6/96.6 kB 928.5 kB/s eta 0:00:00\n",
      "Requirement already satisfied: colorama in c:\\users\\acer\\anaconda3\\envs\\tf\\lib\\site-packages (from Click>=7.0->heic-to-jpg) (0.4.6)\n",
      "Installing collected packages: Click, heic-to-jpg\n",
      "Successfully installed Click-8.1.3 heic-to-jpg-0.1.8\n"
     ]
    }
   ],
   "source": [
    "!pip install heic-to-jpg"
   ]
  },
  {
   "cell_type": "code",
   "execution_count": 6,
   "metadata": {},
   "outputs": [
    {
     "name": "stdout",
     "output_type": "stream",
     "text": [
      "Program 'convert' not found!\n"
     ]
    }
   ],
   "source": [
    "!heic-to-jpg -s ./images/drive-download-20230404T230650Z-001/ --keep"
   ]
  },
  {
   "cell_type": "code",
   "execution_count": null,
   "metadata": {},
   "outputs": [],
   "source": []
  }
 ],
 "metadata": {
  "kernelspec": {
   "display_name": "tf",
   "language": "python",
   "name": "python3"
  },
  "language_info": {
   "codemirror_mode": {
    "name": "ipython",
    "version": 3
   },
   "file_extension": ".py",
   "mimetype": "text/x-python",
   "name": "python",
   "nbconvert_exporter": "python",
   "pygments_lexer": "ipython3",
   "version": "3.9.16"
  },
  "orig_nbformat": 4
 },
 "nbformat": 4,
 "nbformat_minor": 2
}
