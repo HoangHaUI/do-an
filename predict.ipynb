{
 "cells": [
  {
   "cell_type": "code",
   "execution_count": 1,
   "metadata": {},
   "outputs": [],
   "source": [
    "from ultralytics import YOLO\n",
    "from PIL import Image\n",
    "import cv2\n"
   ]
  },
  {
   "cell_type": "code",
   "execution_count": 2,
   "metadata": {},
   "outputs": [],
   "source": [
    "model = YOLO(\"Yolo/yolov8n.pt\")"
   ]
  },
  {
   "cell_type": "code",
   "execution_count": 5,
   "metadata": {},
   "outputs": [
    {
     "name": "stderr",
     "output_type": "stream",
     "text": [
      "\n",
      "image 1/1 E:\\do-an\\images\\ho_nap\\z4203565180843_48458347548433ba59d556e8f0b0752f.jpg: 640x480 1 vase, 133.0ms\n",
      "Speed: 2.0ms preprocess, 133.0ms inference, 1.0ms postprocess per image at shape (1, 3, 640, 640)\n",
      "Results saved to \u001b[1mruns\\detect\\predict2\u001b[0m\n",
      "1 label saved to runs\\detect\\predict2\\labels\n"
     ]
    },
    {
     "data": {
      "text/plain": [
       "[ultralytics.yolo.engine.results.Results object with attributes:\n",
       " \n",
       " _keys: ('boxes', 'masks', 'probs')\n",
       " boxes: ultralytics.yolo.engine.results.Boxes object\n",
       " keys: ['boxes']\n",
       " masks: None\n",
       " names: {0: 'person', 1: 'bicycle', 2: 'car', 3: 'motorcycle', 4: 'airplane', 5: 'bus', 6: 'train', 7: 'truck', 8: 'boat', 9: 'traffic light', 10: 'fire hydrant', 11: 'stop sign', 12: 'parking meter', 13: 'bench', 14: 'bird', 15: 'cat', 16: 'dog', 17: 'horse', 18: 'sheep', 19: 'cow', 20: 'elephant', 21: 'bear', 22: 'zebra', 23: 'giraffe', 24: 'backpack', 25: 'umbrella', 26: 'handbag', 27: 'tie', 28: 'suitcase', 29: 'frisbee', 30: 'skis', 31: 'snowboard', 32: 'sports ball', 33: 'kite', 34: 'baseball bat', 35: 'baseball glove', 36: 'skateboard', 37: 'surfboard', 38: 'tennis racket', 39: 'bottle', 40: 'wine glass', 41: 'cup', 42: 'fork', 43: 'knife', 44: 'spoon', 45: 'bowl', 46: 'banana', 47: 'apple', 48: 'sandwich', 49: 'orange', 50: 'broccoli', 51: 'carrot', 52: 'hot dog', 53: 'pizza', 54: 'donut', 55: 'cake', 56: 'chair', 57: 'couch', 58: 'potted plant', 59: 'bed', 60: 'dining table', 61: 'toilet', 62: 'tv', 63: 'laptop', 64: 'mouse', 65: 'remote', 66: 'keyboard', 67: 'cell phone', 68: 'microwave', 69: 'oven', 70: 'toaster', 71: 'sink', 72: 'refrigerator', 73: 'book', 74: 'clock', 75: 'vase', 76: 'scissors', 77: 'teddy bear', 78: 'hair drier', 79: 'toothbrush'}\n",
       " orig_img: array([[[129, 120, 111],\n",
       "         [133, 124, 115],\n",
       "         [143, 133, 126],\n",
       "         ...,\n",
       "         [163, 165, 173],\n",
       "         [178, 180, 188],\n",
       "         [176, 178, 186]],\n",
       " \n",
       "        [[144, 135, 126],\n",
       "         [141, 132, 123],\n",
       "         [142, 132, 125],\n",
       "         ...,\n",
       "         [160, 162, 170],\n",
       "         [162, 164, 172],\n",
       "         [155, 157, 165]],\n",
       " \n",
       "        [[145, 136, 127],\n",
       "         [144, 135, 126],\n",
       "         [143, 135, 128],\n",
       "         ...,\n",
       "         [162, 164, 172],\n",
       "         [163, 165, 173],\n",
       "         [161, 163, 171]],\n",
       " \n",
       "        ...,\n",
       " \n",
       "        [[123, 148, 158],\n",
       "         [127, 152, 162],\n",
       "         [121, 146, 156],\n",
       "         ...,\n",
       "         [140, 188, 240],\n",
       "         [141, 189, 241],\n",
       "         [143, 191, 243]],\n",
       " \n",
       "        [[112, 137, 147],\n",
       "         [115, 140, 150],\n",
       "         [117, 142, 152],\n",
       "         ...,\n",
       "         [138, 186, 238],\n",
       "         [138, 186, 238],\n",
       "         [140, 188, 240]],\n",
       " \n",
       "        [[114, 139, 149],\n",
       "         [111, 136, 146],\n",
       "         [117, 142, 152],\n",
       "         ...,\n",
       "         [143, 191, 243],\n",
       "         [142, 190, 242],\n",
       "         [144, 192, 244]]], dtype=uint8)\n",
       " orig_shape: (2560, 1920)\n",
       " path: 'E:\\\\do-an\\\\images\\\\ho_nap\\\\z4203565180843_48458347548433ba59d556e8f0b0752f.jpg'\n",
       " probs: None\n",
       " speed: {'preprocess': 2.0062923431396484, 'inference': 132.9500675201416, 'postprocess': 1.0001659393310547}]"
      ]
     },
     "execution_count": 5,
     "metadata": {},
     "output_type": "execute_result"
    }
   ],
   "source": [
    "model(\"images/ho_nap/z4203565180843_48458347548433ba59d556e8f0b0752f.jpg\", save = True,  save_txt=True)"
   ]
  },
  {
   "cell_type": "code",
   "execution_count": 7,
   "metadata": {},
   "outputs": [
    {
     "data": {
      "text/plain": [
       "<tensorflow.python.checkpoint.checkpoint.CheckpointLoadStatus at 0x1646ae8b6a0>"
      ]
     },
     "execution_count": 7,
     "metadata": {},
     "output_type": "execute_result"
    }
   ],
   "source": [
    "import tensorflow as tf\n",
    "import numpy as np\n",
    "from src.training.load_model import load_model\n",
    "from src.training.load_image import get_dataset\n",
    "\n",
    "checkpoint_dir = \"runs/training/\"\n",
    "# Load model \n",
    "latest = tf.train.latest_checkpoint(checkpoint_dir)\n",
    "latest\n",
    "# Create a new model instance\n",
    "model = load_model(2)\n",
    "\n",
    "# Load the previously saved weights\n",
    "model.load_weights(latest)\n"
   ]
  },
  {
   "cell_type": "code",
   "execution_count": 8,
   "metadata": {},
   "outputs": [
    {
     "name": "stdout",
     "output_type": "stream",
     "text": [
      "255.0 0.0\n",
      "1/1 [==============================] - 1s 1s/step\n",
      "This image most likely belongs to chuan with a 97.98 percent confidence.\n",
      "255.0 0.0\n",
      "1/1 [==============================] - 0s 26ms/step\n",
      "This image most likely belongs to chuan with a 97.98 percent confidence.\n",
      "255.0 0.0\n",
      "1/1 [==============================] - 0s 22ms/step\n",
      "This image most likely belongs to chuan with a 97.98 percent confidence.\n",
      "255.0 0.0\n",
      "1/1 [==============================] - 0s 29ms/step\n",
      "This image most likely belongs to chuan with a 97.98 percent confidence.\n",
      "255.0 0.0\n",
      "1/1 [==============================] - 0s 25ms/step\n",
      "This image most likely belongs to chuan with a 97.98 percent confidence.\n",
      "255.0 0.0\n",
      "1/1 [==============================] - 0s 20ms/step\n",
      "This image most likely belongs to chuan with a 97.98 percent confidence.\n",
      "255.0 0.0\n",
      "1/1 [==============================] - 0s 21ms/step\n",
      "This image most likely belongs to chuan with a 97.98 percent confidence.\n",
      "255.0 0.0\n",
      "1/1 [==============================] - 0s 21ms/step\n",
      "This image most likely belongs to chuan with a 97.98 percent confidence.\n",
      "255.0 0.0\n",
      "1/1 [==============================] - 0s 22ms/step\n",
      "This image most likely belongs to chuan with a 97.98 percent confidence.\n",
      "255.0 0.0\n",
      "1/1 [==============================] - 0s 19ms/step\n",
      "This image most likely belongs to chuan with a 97.98 percent confidence.\n",
      "255.0 0.0\n",
      "1/1 [==============================] - 0s 21ms/step\n",
      "This image most likely belongs to chuan with a 97.98 percent confidence.\n",
      "255.0 0.0\n",
      "1/1 [==============================] - 0s 19ms/step\n",
      "This image most likely belongs to chuan with a 97.98 percent confidence.\n",
      "255.0 0.0\n",
      "1/1 [==============================] - 0s 21ms/step\n",
      "This image most likely belongs to chuan with a 97.98 percent confidence.\n",
      "255.0 0.0\n",
      "1/1 [==============================] - 0s 20ms/step\n",
      "This image most likely belongs to chuan with a 97.98 percent confidence.\n",
      "255.0 0.0\n",
      "1/1 [==============================] - 0s 20ms/step\n",
      "This image most likely belongs to chuan with a 97.98 percent confidence.\n",
      "255.0 0.0\n",
      "1/1 [==============================] - 0s 22ms/step\n",
      "This image most likely belongs to chuan with a 97.98 percent confidence.\n",
      "255.0 0.0\n",
      "1/1 [==============================] - 0s 21ms/step\n",
      "This image most likely belongs to chuan with a 97.98 percent confidence.\n",
      "255.0 0.0\n",
      "1/1 [==============================] - 0s 21ms/step\n",
      "This image most likely belongs to chuan with a 97.98 percent confidence.\n",
      "255.0 0.0\n",
      "1/1 [==============================] - 0s 20ms/step\n",
      "This image most likely belongs to chuan with a 97.98 percent confidence.\n",
      "255.0 0.0\n",
      "1/1 [==============================] - 0s 21ms/step\n",
      "This image most likely belongs to chuan with a 97.98 percent confidence.\n",
      "255.0 0.0\n",
      "1/1 [==============================] - 0s 20ms/step\n",
      "This image most likely belongs to chuan with a 97.98 percent confidence.\n",
      "255.0 0.0\n",
      "1/1 [==============================] - 0s 22ms/step\n",
      "This image most likely belongs to chuan with a 97.98 percent confidence.\n",
      "255.0 0.0\n",
      "1/1 [==============================] - 0s 21ms/step\n",
      "This image most likely belongs to chuan with a 97.98 percent confidence.\n",
      "255.0 0.0\n",
      "1/1 [==============================] - 0s 21ms/step\n",
      "This image most likely belongs to chuan with a 97.98 percent confidence.\n",
      "255.0 0.0\n",
      "1/1 [==============================] - 0s 22ms/step\n",
      "This image most likely belongs to chuan with a 97.98 percent confidence.\n",
      "255.0 0.0\n",
      "1/1 [==============================] - 0s 27ms/step\n",
      "This image most likely belongs to chuan with a 97.98 percent confidence.\n",
      "255.0 0.0\n",
      "1/1 [==============================] - 0s 19ms/step\n",
      "This image most likely belongs to chuan with a 97.98 percent confidence.\n",
      "255.0 0.0\n",
      "1/1 [==============================] - 0s 21ms/step\n",
      "This image most likely belongs to chuan with a 97.98 percent confidence.\n",
      "255.0 0.0\n",
      "1/1 [==============================] - 0s 20ms/step\n",
      "This image most likely belongs to chuan with a 97.98 percent confidence.\n",
      "255.0 0.0\n",
      "1/1 [==============================] - 0s 31ms/step\n",
      "This image most likely belongs to chuan with a 97.93 percent confidence.\n"
     ]
    }
   ],
   "source": [
    "\n",
    "from glob import glob\n",
    "testing_image = glob(\"./images/ho_nap/*.jpg\")\n",
    "for path in testing_image:\n",
    "    # Evaluate\n",
    "    img = tf.keras.utils.load_img(\n",
    "        path, target_size=(244, 244)\n",
    "    )\n",
    "    img_array = tf.keras.utils.img_to_array(img)\n",
    "    img_array = tf.expand_dims(img_array, 0) # Create a batch\n",
    "\n",
    "    print(np.max(img_array[0]), np.min(img_array[0]))\n",
    "    predictions = model.predict(img_array)\n",
    "    score = tf.nn.softmax(predictions[0])\n",
    "\n",
    "    # _,_,class_names = get_dataset()\n",
    "\n",
    "    class_names = ['chuan', 'thieu_nhan_dan']\n",
    "    print(\n",
    "        \"This image most likely belongs to {} with a {:.2f} percent confidence.\"\n",
    "        .format(class_names[np.argmax(score)], 100 * np.max(score))\n",
    "    )"
   ]
  },
  {
   "cell_type": "code",
   "execution_count": 53,
   "metadata": {},
   "outputs": [
    {
     "name": "stdout",
     "output_type": "stream",
     "text": [
      "Found 60 files belonging to 2 classes.\n",
      "Using 48 files for training.\n",
      "Found 60 files belonging to 2 classes.\n",
      "Using 12 files for validation.\n",
      "['chuan', 'thieu_nhan_dan']\n",
      "0.0 1.0\n"
     ]
    }
   ],
   "source": [
    "train_img, test_img ,_ =get_dataset()"
   ]
  },
  {
   "cell_type": "code",
   "execution_count": 55,
   "metadata": {},
   "outputs": [],
   "source": [
    "data,_  = next(iter(train_img)) "
   ]
  }
 ],
 "metadata": {
  "kernelspec": {
   "display_name": "tf",
   "language": "python",
   "name": "python3"
  },
  "language_info": {
   "codemirror_mode": {
    "name": "ipython",
    "version": 3
   },
   "file_extension": ".py",
   "mimetype": "text/x-python",
   "name": "python",
   "nbconvert_exporter": "python",
   "pygments_lexer": "ipython3",
   "version": "3.9.16"
  },
  "orig_nbformat": 4
 },
 "nbformat": 4,
 "nbformat_minor": 2
}
